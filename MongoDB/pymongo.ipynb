{
 "cells": [
  {
   "cell_type": "code",
   "execution_count": 1,
   "id": "9f01986a",
   "metadata": {},
   "outputs": [
    {
     "name": "stdout",
     "output_type": "stream",
     "text": [
      "Requirement already satisfied: pymongo in c:\\users\\zhaoj\\appdata\\local\\programs\\python\\python313\\lib\\site-packages (4.13.0)\n",
      "Requirement already satisfied: dnspython<3.0.0,>=1.16.0 in c:\\users\\zhaoj\\appdata\\local\\programs\\python\\python313\\lib\\site-packages (from pymongo) (2.7.0)\n",
      "Note: you may need to restart the kernel to use updated packages.\n"
     ]
    }
   ],
   "source": [
    "%pip install pymongo"
   ]
  },
  {
   "cell_type": "markdown",
   "id": "2ec64378",
   "metadata": {},
   "source": [
    "CREATING A COLLECTION\n"
   ]
  },
  {
   "cell_type": "markdown",
   "id": "1022e8f1",
   "metadata": {},
   "source": [
    "*********** INSERT DOCUMENTS ( CREATE ) ***********"
   ]
  },
  {
   "cell_type": "code",
   "execution_count": 3,
   "id": "903f7ac0",
   "metadata": {},
   "outputs": [],
   "source": [
    "from pymongo import MongoClient\n",
    "client = MongoClient('mongodb://localhost:27017/')\n",
    "db = client['inventory']"
   ]
  },
  {
   "cell_type": "code",
   "execution_count": 6,
   "id": "807b3db0",
   "metadata": {},
   "outputs": [
    {
     "data": {
      "text/plain": [
       "InsertOneResult(ObjectId('6838db6070ac9c19dcaeca41'), acknowledged=True)"
      ]
     },
     "execution_count": 6,
     "metadata": {},
     "output_type": "execute_result"
    }
   ],
   "source": [
    "db.inventory.insert_one({\n",
    "    \"item\": \"canvas\",\n",
    "    \"qty\": 100,\n",
    "    \"tags\": [\"cotton\"],\n",
    "    \"size\": {\"h\": 28, \"w\": 35.5, \"uom\": \"cm\"}\n",
    "})"
   ]
  },
  {
   "cell_type": "markdown",
   "id": "7051fc82",
   "metadata": {},
   "source": [
    "Query the Collection"
   ]
  },
  {
   "cell_type": "code",
   "execution_count": 9,
   "id": "6a86b274",
   "metadata": {},
   "outputs": [
    {
     "name": "stdout",
     "output_type": "stream",
     "text": [
      "{'_id': ObjectId('6838db6070ac9c19dcaeca41'), 'item': 'canvas', 'qty': 100, 'tags': ['cotton'], 'size': {'h': 28, 'w': 35.5, 'uom': 'cm'}}\n"
     ]
    }
   ],
   "source": [
    "for doc in db.inventory.find({ \"item\": \"canvas\" }):\n",
    "    print(doc)"
   ]
  },
  {
   "cell_type": "markdown",
   "id": "eb49bacc",
   "metadata": {},
   "source": [
    "Insert Many Documents"
   ]
  },
  {
   "cell_type": "code",
   "execution_count": 11,
   "id": "2e7dcd5c",
   "metadata": {},
   "outputs": [
    {
     "data": {
      "text/plain": [
       "InsertManyResult([ObjectId('68390b9770ac9c19dcaeca42'), ObjectId('68390b9770ac9c19dcaeca43'), ObjectId('68390b9770ac9c19dcaeca44')], acknowledged=True)"
      ]
     },
     "execution_count": 11,
     "metadata": {},
     "output_type": "execute_result"
    }
   ],
   "source": [
    "db.inventory.insert_many([\n",
    "    { \"item\": \"journal\", \"qty\": 25, \"tags\": [\"blank\", \"red\"], \"size\": { \"h\": 14, \"w\": 21, \"uom\": \"cm\" } },\n",
    "    { \"item\": \"mat\", \"qty\": 85, \"tags\": [\"gray\"], \"size\": { \"h\": 27.9, \"w\": 35.5, \"uom\": \"cm\" } },\n",
    "    { \"item\": \"mousepad\", \"qty\": 25, \"tags\": [\"gel\", \"blue\"], \"size\": { \"h\": 19, \"w\": 22.85, \"uom\": \"cm\" } }\n",
    "])"
   ]
  },
  {
   "cell_type": "markdown",
   "id": "9b538452",
   "metadata": {},
   "source": [
    "Query the inventory collection"
   ]
  },
  {
   "cell_type": "code",
   "execution_count": 12,
   "id": "196d2fca",
   "metadata": {},
   "outputs": [
    {
     "data": {
      "text/plain": [
       "<pymongo.synchronous.cursor.Cursor at 0x28c4db0df90>"
      ]
     },
     "execution_count": 12,
     "metadata": {},
     "output_type": "execute_result"
    }
   ],
   "source": [
    "db.inventory.find({})"
   ]
  },
  {
   "cell_type": "markdown",
   "id": "969169dc",
   "metadata": {},
   "source": [
    "Insert additional data"
   ]
  },
  {
   "cell_type": "code",
   "execution_count": 13,
   "id": "34dd6942",
   "metadata": {},
   "outputs": [
    {
     "data": {
      "text/plain": [
       "InsertManyResult([ObjectId('6839123070ac9c19dcaeca45'), ObjectId('6839123070ac9c19dcaeca46'), ObjectId('6839123070ac9c19dcaeca47'), ObjectId('6839123070ac9c19dcaeca48'), ObjectId('6839123070ac9c19dcaeca49')], acknowledged=True)"
      ]
     },
     "execution_count": 13,
     "metadata": {},
     "output_type": "execute_result"
    }
   ],
   "source": [
    "db.inventory.insert_many([\n",
    "    { \"item\": \"journal\", \"qty\": 25, \"size\": {\"h\": 14, \"w\": 21, \"uom\": \"cm\"}, \"status\": \"A\" },\n",
    "    { \"item\": \"notebook\", \"qty\": 50, \"size\": {\"h\": 8.5, \"w\": 11, \"uom\": \"in\"}, \"status\": \"A\" },\n",
    "    { \"item\": \"paper\", \"qty\": 100, \"size\": {\"h\": 8.5, \"w\": 11, \"uom\": \"in\"}, \"status\": \"D\" },\n",
    "    { \"item\": \"planner\", \"qty\": 75, \"size\": {\"h\": 22.85, \"w\": 30, \"uom\": \"cm\"}, \"status\": \"D\" },\n",
    "    { \"item\": \"postcard\", \"qty\": 45, \"size\": {\"h\": 10, \"w\": 15.25, \"uom\": \"cm\"}, \"status\": \"A\" }\n",
    "])"
   ]
  },
  {
   "cell_type": "markdown",
   "id": "38de5e1d",
   "metadata": {},
   "source": [
    "duplicates added to item journal"
   ]
  },
  {
   "cell_type": "code",
   "execution_count": 16,
   "id": "785d8d8f",
   "metadata": {},
   "outputs": [
    {
     "name": "stdout",
     "output_type": "stream",
     "text": [
      "{'_id': ObjectId('68390b9770ac9c19dcaeca42'), 'item': 'journal', 'qty': 25, 'tags': ['blank', 'red'], 'size': {'h': 14, 'w': 21, 'uom': 'cm'}}\n",
      "{'_id': ObjectId('6839123070ac9c19dcaeca45'), 'item': 'journal', 'qty': 25, 'size': {'h': 14, 'w': 21, 'uom': 'cm'}, 'status': 'A'}\n"
     ]
    }
   ],
   "source": [
    "for doc in db.inventory.find({ \"item\": \"journal\" }):\n",
    "    print(doc)"
   ]
  },
  {
   "cell_type": "markdown",
   "id": "8d4fe9ee",
   "metadata": {},
   "source": [
    "*********** QUERY DOCUMENTS ( READ ) ***********"
   ]
  },
  {
   "cell_type": "markdown",
   "id": "890db617",
   "metadata": {},
   "source": [
    "Query the inventory collection"
   ]
  },
  {
   "cell_type": "code",
   "execution_count": 17,
   "id": "dab9bf37",
   "metadata": {},
   "outputs": [
    {
     "data": {
      "text/plain": [
       "<pymongo.synchronous.cursor.Cursor at 0x28c4db0e850>"
      ]
     },
     "execution_count": 17,
     "metadata": {},
     "output_type": "execute_result"
    }
   ],
   "source": [
    "db.inventory.find({})"
   ]
  },
  {
   "cell_type": "markdown",
   "id": "a2973c9c",
   "metadata": {},
   "source": [
    "SELECT * FROM inventory WHERE status = \"D\""
   ]
  },
  {
   "cell_type": "code",
   "execution_count": 19,
   "id": "f4ccb2a1",
   "metadata": {},
   "outputs": [
    {
     "name": "stdout",
     "output_type": "stream",
     "text": [
      "{'_id': ObjectId('6839123070ac9c19dcaeca47'),\n",
      " 'item': 'paper',\n",
      " 'qty': 100,\n",
      " 'size': {'h': 8.5, 'uom': 'in', 'w': 11},\n",
      " 'status': 'D'}\n",
      "{'_id': ObjectId('6839123070ac9c19dcaeca48'),\n",
      " 'item': 'planner',\n",
      " 'qty': 75,\n",
      " 'size': {'h': 22.85, 'uom': 'cm', 'w': 30},\n",
      " 'status': 'D'}\n"
     ]
    }
   ],
   "source": [
    "from pprint import pprint\n",
    "\n",
    "for doc in db.inventory.find({\"status\": \"D\"}):\n",
    "    pprint(doc)"
   ]
  },
  {
   "cell_type": "code",
   "execution_count": 22,
   "id": "24fc0935",
   "metadata": {},
   "outputs": [
    {
     "data": {
      "text/plain": [
       "<pymongo.synchronous.cursor.Cursor at 0x28c4db0e5d0>"
      ]
     },
     "execution_count": 22,
     "metadata": {},
     "output_type": "execute_result"
    }
   ],
   "source": [
    "db.inventory.find({\"status\": {\"$in\": [\"A\", \"D\"]}})\n"
   ]
  },
  {
   "cell_type": "markdown",
   "id": "a9e70c50",
   "metadata": {},
   "source": [
    "Retrieve all documents in the inventory collection where the status equals \"A\" AND qty is less than ($lt) 30\n",
    "\n",
    "SELECT * FROM inventory WHERE status = \"A\" AND qty < 30"
   ]
  },
  {
   "cell_type": "code",
   "execution_count": 24,
   "id": "bd8c4043",
   "metadata": {},
   "outputs": [
    {
     "data": {
      "text/plain": [
       "<pymongo.synchronous.cursor.Cursor at 0x28c4db0ee90>"
      ]
     },
     "execution_count": 24,
     "metadata": {},
     "output_type": "execute_result"
    }
   ],
   "source": [
    "db.inventory.find( {\"status\": \"A\", \"qty\": {\"$lt\": 30 } } )"
   ]
  },
  {
   "cell_type": "markdown",
   "id": "8d0bbaff",
   "metadata": {},
   "source": [
    "retrieve all documents in the collection where the status equals \"A\" OR qty is less than ($lt) 30:\n",
    "\n",
    "SELECT * FROM inventory WHERE status = \"A\" OR qty < 30"
   ]
  },
  {
   "cell_type": "code",
   "execution_count": 25,
   "id": "d7d845ae",
   "metadata": {},
   "outputs": [
    {
     "name": "stdout",
     "output_type": "stream",
     "text": [
      "{'_id': ObjectId('68390b9770ac9c19dcaeca42'), 'item': 'journal', 'qty': 25, 'tags': ['blank', 'red'], 'size': {'h': 14, 'w': 21, 'uom': 'cm'}}\n",
      "{'_id': ObjectId('68390b9770ac9c19dcaeca44'), 'item': 'mousepad', 'qty': 25, 'tags': ['gel', 'blue'], 'size': {'h': 19, 'w': 22.85, 'uom': 'cm'}}\n",
      "{'_id': ObjectId('6839123070ac9c19dcaeca45'), 'item': 'journal', 'qty': 25, 'size': {'h': 14, 'w': 21, 'uom': 'cm'}, 'status': 'A'}\n",
      "{'_id': ObjectId('6839123070ac9c19dcaeca46'), 'item': 'notebook', 'qty': 50, 'size': {'h': 8.5, 'w': 11, 'uom': 'in'}, 'status': 'A'}\n",
      "{'_id': ObjectId('6839123070ac9c19dcaeca49'), 'item': 'postcard', 'qty': 45, 'size': {'h': 10, 'w': 15.25, 'uom': 'cm'}, 'status': 'A'}\n"
     ]
    }
   ],
   "source": [
    "for doc in db.inventory.find({\n",
    "    \"$or\": [\n",
    "        { \"status\": \"A\" },\n",
    "        { \"qty\": { \"$lt\": 30 } }\n",
    "    ]\n",
    "}):\n",
    "    print(doc)"
   ]
  },
  {
   "cell_type": "markdown",
   "id": "8be5f710",
   "metadata": {},
   "source": [
    "compound query that selects all documents in the collection where the status equals \"A\" and\n",
    "\n",
    "either qty is less than ($lt) 30 or item starts with the character p\n",
    "\n",
    "SELECT * FROM inventory WHERE status = \"A\" AND ( qty < 30 OR item LIKE \"p%\")"
   ]
  },
  {
   "cell_type": "markdown",
   "id": "5d699e50",
   "metadata": {},
   "source": [
    "在 Python（pymongo）中，所有 key 和操作符都要加引号。"
   ]
  },
  {
   "cell_type": "code",
   "execution_count": 27,
   "id": "19b333b6",
   "metadata": {},
   "outputs": [
    {
     "name": "stdout",
     "output_type": "stream",
     "text": [
      "{'_id': ObjectId('68390b9770ac9c19dcaeca42'), 'item': 'journal', 'qty': 25, 'tags': ['blank', 'red'], 'size': {'h': 14, 'w': 21, 'uom': 'cm'}}\n",
      "{'_id': ObjectId('68390b9770ac9c19dcaeca44'), 'item': 'mousepad', 'qty': 25, 'tags': ['gel', 'blue'], 'size': {'h': 19, 'w': 22.85, 'uom': 'cm'}}\n",
      "{'_id': ObjectId('6839123070ac9c19dcaeca45'), 'item': 'journal', 'qty': 25, 'size': {'h': 14, 'w': 21, 'uom': 'cm'}, 'status': 'A'}\n",
      "{'_id': ObjectId('6839123070ac9c19dcaeca46'), 'item': 'notebook', 'qty': 50, 'size': {'h': 8.5, 'w': 11, 'uom': 'in'}, 'status': 'A'}\n",
      "{'_id': ObjectId('6839123070ac9c19dcaeca49'), 'item': 'postcard', 'qty': 45, 'size': {'h': 10, 'w': 15.25, 'uom': 'cm'}, 'status': 'A'}\n"
     ]
    }
   ],
   "source": [
    "for doc in db.inventory.find({\n",
    "    \"$or\": [\n",
    "        { \"status\": \"A\" },\n",
    "        { \"qty\": { \"$lt\": 30 } }\n",
    "    ]\n",
    "}):\n",
    "    print(doc)"
   ]
  },
  {
   "cell_type": "markdown",
   "id": "e3d4702e",
   "metadata": {},
   "source": [
    "Match an Embedded/Nested Document  \n",
    "Select all documents where the field size equals the document { h: 14, w: 21, uom: \"cm\" } "
   ]
  },
  {
   "cell_type": "code",
   "execution_count": 28,
   "id": "8677cf12",
   "metadata": {},
   "outputs": [
    {
     "name": "stdout",
     "output_type": "stream",
     "text": [
      "{'_id': ObjectId('68390b9770ac9c19dcaeca42'),\n",
      " 'item': 'journal',\n",
      " 'qty': 25,\n",
      " 'size': {'h': 14, 'uom': 'cm', 'w': 21},\n",
      " 'tags': ['blank', 'red']}\n",
      "{'_id': ObjectId('6839123070ac9c19dcaeca45'),\n",
      " 'item': 'journal',\n",
      " 'qty': 25,\n",
      " 'size': {'h': 14, 'uom': 'cm', 'w': 21},\n",
      " 'status': 'A'}\n"
     ]
    }
   ],
   "source": [
    "from pprint import pprint\n",
    "for doc in db.inventory.find({\n",
    "    \"size\": { \"h\": 14, \"w\": 21, \"uom\": \"cm\" }\n",
    "}):\n",
    "    pprint(doc)"
   ]
  },
  {
   "cell_type": "markdown",
   "id": "40700f0d",
   "metadata": {},
   "source": [
    "Note: Equality matches on the whole embedded document require an exact match of the specified <value>\n",
    "\n",
    "Below query does not return any records since keys h & w have been swapped"
   ]
  },
  {
   "cell_type": "markdown",
   "id": "7e718e56",
   "metadata": {},
   "source": [
    "select all documents where the field uom nested in the size field equals \"in\" */"
   ]
  },
  {
   "cell_type": "code",
   "execution_count": 29,
   "id": "cae0db7c",
   "metadata": {},
   "outputs": [
    {
     "name": "stdout",
     "output_type": "stream",
     "text": [
      "{'_id': ObjectId('6839123070ac9c19dcaeca46'),\n",
      " 'item': 'notebook',\n",
      " 'qty': 50,\n",
      " 'size': {'h': 8.5, 'uom': 'in', 'w': 11},\n",
      " 'status': 'A'}\n",
      "{'_id': ObjectId('6839123070ac9c19dcaeca47'),\n",
      " 'item': 'paper',\n",
      " 'qty': 100,\n",
      " 'size': {'h': 8.5, 'uom': 'in', 'w': 11},\n",
      " 'status': 'D'}\n"
     ]
    }
   ],
   "source": [
    "from pprint import pprint\n",
    "for doc in db.inventory.find({ \"size.uom\": \"in\" }):\n",
    "    pprint(doc)"
   ]
  },
  {
   "cell_type": "markdown",
   "id": "fadfeb78",
   "metadata": {},
   "source": [
    "selects all documents where the nested field h is less than 15, the nested field\n",
    "\n",
    "uom equals \"in\", and the status field equals \"D\":"
   ]
  },
  {
   "cell_type": "code",
   "execution_count": 31,
   "id": "a4bd72d1",
   "metadata": {},
   "outputs": [
    {
     "name": "stdout",
     "output_type": "stream",
     "text": [
      "{'_id': ObjectId('6839123070ac9c19dcaeca47'),\n",
      " 'item': 'paper',\n",
      " 'qty': 100,\n",
      " 'size': {'h': 8.5, 'uom': 'in', 'w': 11},\n",
      " 'status': 'D'}\n"
     ]
    }
   ],
   "source": [
    "for doc in db.inventory.find({\n",
    "    \"size.h\": { \"$lt\": 15 },\n",
    "    \"size.uom\": \"in\",\n",
    "    \"status\": \"D\"\n",
    "}):\n",
    "    pprint(doc)"
   ]
  },
  {
   "cell_type": "markdown",
   "id": "40a530b7",
   "metadata": {},
   "source": [
    "Query an array : Insert data"
   ]
  },
  {
   "cell_type": "code",
   "execution_count": 32,
   "id": "a7a7b1f8",
   "metadata": {},
   "outputs": [
    {
     "data": {
      "text/plain": [
       "InsertManyResult([ObjectId('68394c1a70ac9c19dcaeca4a'), ObjectId('68394c1a70ac9c19dcaeca4b'), ObjectId('68394c1a70ac9c19dcaeca4c'), ObjectId('68394c1a70ac9c19dcaeca4d'), ObjectId('68394c1a70ac9c19dcaeca4e')], acknowledged=True)"
      ]
     },
     "execution_count": 32,
     "metadata": {},
     "output_type": "execute_result"
    }
   ],
   "source": [
    "db.inventory.insert_many([\n",
    "    { \"item\": \"journal\", \"qty\": 25, \"tags\": [\"blank\", \"red\"], \"dim_cm\": [14, 21] },\n",
    "    { \"item\": \"notebook\", \"qty\": 50, \"tags\": [\"red\", \"blank\"], \"dim_cm\": [14, 21] },\n",
    "    { \"item\": \"paper\", \"qty\": 100, \"tags\": [\"red\", \"blank\", \"plain\"], \"dim_cm\": [14, 21] },\n",
    "    { \"item\": \"planner\", \"qty\": 75, \"tags\": [\"blank\", \"red\"], \"dim_cm\": [22.85, 30] },\n",
    "    { \"item\": \"postcard\", \"qty\": 45, \"tags\": [\"blue\"], \"dim_cm\": [10, 15.25] }\n",
    "])"
   ]
  },
  {
   "cell_type": "markdown",
   "id": "bf8b227f",
   "metadata": {},
   "source": [
    "Query the collection for all documents where the field tags value is an array with exactly two elements,\n",
    "\n",
    "\"red\" and \"blank\", in the SPECIFIED ORDER"
   ]
  },
  {
   "cell_type": "code",
   "execution_count": 33,
   "id": "d23081d9",
   "metadata": {},
   "outputs": [
    {
     "name": "stdout",
     "output_type": "stream",
     "text": [
      "{'_id': ObjectId('68394c1a70ac9c19dcaeca4b'),\n",
      " 'dim_cm': [14, 21],\n",
      " 'item': 'notebook',\n",
      " 'qty': 50,\n",
      " 'tags': ['red', 'blank']}\n"
     ]
    }
   ],
   "source": [
    "from pprint import pprint\n",
    "for doc in db.inventory.find({ \"tags\": [\"red\", \"blank\"] }):\n",
    "    pprint(doc)"
   ]
  },
  {
   "cell_type": "markdown",
   "id": "7cf49aec",
   "metadata": {},
   "source": [
    "Query all documents where tags is an array that contains the string \"red\" as one of its elements"
   ]
  },
  {
   "cell_type": "code",
   "execution_count": 34,
   "id": "4f6e0d0e",
   "metadata": {},
   "outputs": [
    {
     "name": "stdout",
     "output_type": "stream",
     "text": [
      "{'_id': ObjectId('68390b9770ac9c19dcaeca42'),\n",
      " 'item': 'journal',\n",
      " 'qty': 25,\n",
      " 'size': {'h': 14, 'uom': 'cm', 'w': 21},\n",
      " 'tags': ['blank', 'red']}\n",
      "{'_id': ObjectId('68394c1a70ac9c19dcaeca4a'),\n",
      " 'dim_cm': [14, 21],\n",
      " 'item': 'journal',\n",
      " 'qty': 25,\n",
      " 'tags': ['blank', 'red']}\n",
      "{'_id': ObjectId('68394c1a70ac9c19dcaeca4b'),\n",
      " 'dim_cm': [14, 21],\n",
      " 'item': 'notebook',\n",
      " 'qty': 50,\n",
      " 'tags': ['red', 'blank']}\n",
      "{'_id': ObjectId('68394c1a70ac9c19dcaeca4c'),\n",
      " 'dim_cm': [14, 21],\n",
      " 'item': 'paper',\n",
      " 'qty': 100,\n",
      " 'tags': ['red', 'blank', 'plain']}\n",
      "{'_id': ObjectId('68394c1a70ac9c19dcaeca4d'),\n",
      " 'dim_cm': [22.85, 30],\n",
      " 'item': 'planner',\n",
      " 'qty': 75,\n",
      " 'tags': ['blank', 'red']}\n"
     ]
    }
   ],
   "source": [
    "from pprint import pprint\n",
    "for doc in db.inventory.find({ \"tags\": \"red\" }):\n",
    "    pprint(doc)"
   ]
  },
  {
   "cell_type": "markdown",
   "id": "a2c26f50",
   "metadata": {},
   "source": [
    "Queries all documents where the array dim_cm contains at least one element whose value is greater than 25."
   ]
  },
  {
   "cell_type": "code",
   "execution_count": 35,
   "id": "749b1d16",
   "metadata": {},
   "outputs": [
    {
     "name": "stdout",
     "output_type": "stream",
     "text": [
      "{'_id': ObjectId('68394c1a70ac9c19dcaeca4d'),\n",
      " 'dim_cm': [22.85, 30],\n",
      " 'item': 'planner',\n",
      " 'qty': 75,\n",
      " 'tags': ['blank', 'red']}\n"
     ]
    }
   ],
   "source": [
    "from pprint import pprint\n",
    "for doc in db.inventory.find({ \"dim_cm\": { \"$gt\": 25 } }):\n",
    "    pprint(doc)"
   ]
  },
  {
   "cell_type": "markdown",
   "id": "cf1ef841",
   "metadata": {},
   "source": [
    "Query an Array with Compound Filter Conditions on the Array Elements\n",
    "\n",
    "The following example queries for documents where the dim_cm array contains elements that in some combination satisfy the query conditions; e.g., one element can satisfy the greater than 15 condition and another element can satisfy the less than 20 condition, or a single element can satisfy both\n"
   ]
  },
  {
   "cell_type": "code",
   "execution_count": 36,
   "id": "28de2143",
   "metadata": {},
   "outputs": [
    {
     "name": "stdout",
     "output_type": "stream",
     "text": [
      "{'_id': ObjectId('68394c1a70ac9c19dcaeca4a'),\n",
      " 'dim_cm': [14, 21],\n",
      " 'item': 'journal',\n",
      " 'qty': 25,\n",
      " 'tags': ['blank', 'red']}\n",
      "{'_id': ObjectId('68394c1a70ac9c19dcaeca4b'),\n",
      " 'dim_cm': [14, 21],\n",
      " 'item': 'notebook',\n",
      " 'qty': 50,\n",
      " 'tags': ['red', 'blank']}\n",
      "{'_id': ObjectId('68394c1a70ac9c19dcaeca4c'),\n",
      " 'dim_cm': [14, 21],\n",
      " 'item': 'paper',\n",
      " 'qty': 100,\n",
      " 'tags': ['red', 'blank', 'plain']}\n",
      "{'_id': ObjectId('68394c1a70ac9c19dcaeca4e'),\n",
      " 'dim_cm': [10, 15.25],\n",
      " 'item': 'postcard',\n",
      " 'qty': 45,\n",
      " 'tags': ['blue']}\n"
     ]
    }
   ],
   "source": [
    "from pprint import pprint\n",
    "for doc in db.inventory.find({ \"dim_cm\": { \"$gt\": 15, \"$lt\": 20 } }):\n",
    "    pprint(doc)"
   ]
  },
  {
   "cell_type": "markdown",
   "id": "ff10183a",
   "metadata": {},
   "source": [
    "Query for an Array Element that Meets Multiple Criteria $elemMatch operator queries for documents where the dim_cm array contains at least one element that is both greater than\n",
    "($gt) 22 and less than ($lt) 30\n"
   ]
  },
  {
   "cell_type": "code",
   "execution_count": 37,
   "id": "4bf1b368",
   "metadata": {},
   "outputs": [
    {
     "name": "stdout",
     "output_type": "stream",
     "text": [
      "{'_id': ObjectId('68394c1a70ac9c19dcaeca4d'),\n",
      " 'dim_cm': [22.85, 30],\n",
      " 'item': 'planner',\n",
      " 'qty': 75,\n",
      " 'tags': ['blank', 'red']}\n"
     ]
    }
   ],
   "source": [
    "from pprint import pprint\n",
    "for doc in db.inventory.find({ \"dim_cm\": { \"$elemMatch\": { \"$gt\": 22, \"$lt\": 30 } } }):\n",
    "    pprint(doc)"
   ]
  },
  {
   "cell_type": "markdown",
   "id": "38bb6b13",
   "metadata": {},
   "source": [
    "Query for an Element by the Array Index Position Queries all documents where the second element ( dot notation ) in the array dim_cm is greater than 25"
   ]
  },
  {
   "cell_type": "code",
   "execution_count": 41,
   "id": "91b93de0",
   "metadata": {},
   "outputs": [
    {
     "name": "stdout",
     "output_type": "stream",
     "text": [
      "{'_id': ObjectId('68394c1a70ac9c19dcaeca4d'),\n",
      " 'dim_cm': [22.85, 30],\n",
      " 'item': 'planner',\n",
      " 'qty': 75,\n",
      " 'tags': ['blank', 'red']}\n"
     ]
    }
   ],
   "source": [
    "from pprint import pprint\n",
    "for doc in db.inventory.find({ \"dim_cm\": { \"$gt\": 25 } }):\n",
    "    pprint(doc)"
   ]
  },
  {
   "cell_type": "markdown",
   "id": "409526fb",
   "metadata": {},
   "source": [
    "Query for an Array Element that Meets Multiple Criteria \n",
    "\n",
    "$elemMatch operator queries for documents where the dim_cm array contains at least one element that is both greater than\n",
    "($gt) 22 and less than ($lt) 30"
   ]
  },
  {
   "cell_type": "code",
   "execution_count": 39,
   "id": "f2d9ef6c",
   "metadata": {},
   "outputs": [
    {
     "name": "stdout",
     "output_type": "stream",
     "text": [
      "{'_id': ObjectId('68394c1a70ac9c19dcaeca4d'),\n",
      " 'dim_cm': [22.85, 30],\n",
      " 'item': 'planner',\n",
      " 'qty': 75,\n",
      " 'tags': ['blank', 'red']}\n"
     ]
    }
   ],
   "source": [
    "from pprint import pprint\n",
    "for doc in db.inventory.find({ \"dim_cm\": { \"$elemMatch\": { \"$gt\": 22, \"$lt\": 30 } } }):\n",
    "    pprint(doc)"
   ]
  },
  {
   "cell_type": "markdown",
   "id": "34f98920",
   "metadata": {},
   "source": [
    "Query for an Element by the Array Index Position \n",
    "\n",
    "Queries all documents where the second element ( dot notation ) in the array dim_cm is greater than 25"
   ]
  },
  {
   "cell_type": "code",
   "execution_count": 40,
   "id": "2f106b77",
   "metadata": {},
   "outputs": [
    {
     "name": "stdout",
     "output_type": "stream",
     "text": [
      "{'_id': ObjectId('68394c1a70ac9c19dcaeca4d'),\n",
      " 'dim_cm': [22.85, 30],\n",
      " 'item': 'planner',\n",
      " 'qty': 75,\n",
      " 'tags': ['blank', 'red']}\n"
     ]
    }
   ],
   "source": [
    "from pprint import pprint\n",
    "for doc in db.inventory.find({ \"dim_cm.1\": { \"$gt\": 25 } }):\n",
    "    pprint(doc)"
   ]
  },
  {
   "cell_type": "markdown",
   "id": "46ba31f7",
   "metadata": {},
   "source": [
    "Query an Array by Array Length"
   ]
  },
  {
   "cell_type": "code",
   "execution_count": 42,
   "id": "9126c9b9",
   "metadata": {},
   "outputs": [
    {
     "name": "stdout",
     "output_type": "stream",
     "text": [
      "{'_id': ObjectId('68394c1a70ac9c19dcaeca4c'),\n",
      " 'dim_cm': [14, 21],\n",
      " 'item': 'paper',\n",
      " 'qty': 100,\n",
      " 'tags': ['red', 'blank', 'plain']}\n"
     ]
    }
   ],
   "source": [
    "from pprint import pprint\n",
    "for doc in db.inventory.find({ \"tags\": { \"$size\": 3 } }):\n",
    "    pprint(doc)"
   ]
  },
  {
   "cell_type": "markdown",
   "id": "d382b8b8",
   "metadata": {},
   "source": [
    "Query for Null or Missing Fields\n",
    "\n",
    "Insert documents"
   ]
  },
  {
   "cell_type": "code",
   "execution_count": 43,
   "id": "f9f6aefc",
   "metadata": {},
   "outputs": [
    {
     "data": {
      "text/plain": [
       "InsertManyResult([1, 2], acknowledged=True)"
      ]
     },
     "execution_count": 43,
     "metadata": {},
     "output_type": "execute_result"
    }
   ],
   "source": [
    "db.inventory.insert_many([\n",
    "    { \"_id\": 1, \"item\": None },\n",
    "    { \"_id\": 2 }\n",
    "])"
   ]
  },
  {
   "cell_type": "markdown",
   "id": "051e4b2b",
   "metadata": {},
   "source": [
    "Existence Check"
   ]
  },
  {
   "cell_type": "code",
   "execution_count": 44,
   "id": "1a1a5935",
   "metadata": {},
   "outputs": [],
   "source": [
    "from pymongo import MongoClient\n",
    "client = MongoClient('mongodb://localhost:27017/')\n",
    "db = client['inventory']"
   ]
  },
  {
   "cell_type": "markdown",
   "id": "b5813f0e",
   "metadata": {},
   "source": [
    "*********** UPDATE DOCUMENTS ( UPDATE ) ***********"
   ]
  },
  {
   "cell_type": "markdown",
   "id": "8d731054",
   "metadata": {},
   "source": [
    "update single document (paper)\n",
    "\n",
    "update the value of the size.uom field to \"cm\" and the value of the status field to \"P\",\n",
    "\n",
    "update the value of the lastModified field to the current date.\n",
    "\n",
    "If lastModified field does not exist, $currentDate will create the field.\n",
    "\n",
    "Check parameters before update"
   ]
  },
  {
   "cell_type": "code",
   "execution_count": 46,
   "id": "0eaa36bb",
   "metadata": {},
   "outputs": [
    {
     "name": "stdout",
     "output_type": "stream",
     "text": [
      "{'_id': ObjectId('6839123070ac9c19dcaeca45'), 'item': 'journal', 'qty': 25, 'size': {'h': 14, 'w': 21, 'uom': 'cm'}, 'status': 'A'}\n",
      "{'_id': ObjectId('6839123070ac9c19dcaeca49'), 'item': 'postcard', 'qty': 45, 'size': {'h': 10, 'w': 15.25, 'uom': 'cm'}, 'status': 'A'}\n"
     ]
    }
   ],
   "source": [
    "import re\n",
    "\n",
    "query = {\n",
    "    \"status\": \"A\",\n",
    "    \"$or\": [\n",
    "        { \"qty\": { \"$lt\": 30 } },\n",
    "        { \"item\": re.compile(\"^p\") }\n",
    "    ]\n",
    "}\n",
    "\n",
    "for doc in db.inventory.find(query):\n",
    "    print(doc)"
   ]
  },
  {
   "cell_type": "markdown",
   "id": "c028cce7",
   "metadata": {},
   "source": [
    "复合查询和正则要用 Python 语法，不能直接用 shell 语法"
   ]
  },
  {
   "cell_type": "markdown",
   "id": "67ee4a89",
   "metadata": {},
   "source": [
    "update all"
   ]
  },
  {
   "cell_type": "code",
   "execution_count": 47,
   "id": "4677e3b1",
   "metadata": {},
   "outputs": [
    {
     "data": {
      "text/plain": [
       "UpdateResult({'n': 6, 'nModified': 6, 'ok': 1.0, 'updatedExisting': True}, acknowledged=True)"
      ]
     },
     "execution_count": 47,
     "metadata": {},
     "output_type": "execute_result"
    }
   ],
   "source": [
    "db.inventory.update_many(\n",
    "    { \"qty\": { \"$lt\": 50 } },\n",
    "    {\n",
    "        \"$set\": { \"size.uom\": \"in\", \"status\": \"P\" },\n",
    "        \"$currentDate\": { \"lastModified\": True }\n",
    "    }\n",
    ")"
   ]
  },
  {
   "cell_type": "markdown",
   "id": "88d95005",
   "metadata": {},
   "source": [
    "Replaces the first document from the inventory collection that matches the filter item equals \"paper\":"
   ]
  },
  {
   "cell_type": "code",
   "execution_count": 48,
   "id": "518865c0",
   "metadata": {},
   "outputs": [
    {
     "data": {
      "text/plain": [
       "UpdateResult({'n': 1, 'nModified': 1, 'ok': 1.0, 'updatedExisting': True}, acknowledged=True)"
      ]
     },
     "execution_count": 48,
     "metadata": {},
     "output_type": "execute_result"
    }
   ],
   "source": [
    "db.inventory.replace_one(\n",
    "    { \"item\": \"paper\" },\n",
    "    { \"item\": \"paper\", \"instock\": [ { \"warehouse\": \"A\", \"qty\": 60 }, { \"warehouse\": \"B\", \"qty\": 40 } ] }\n",
    ")"
   ]
  },
  {
   "cell_type": "markdown",
   "id": "8543e4ce",
   "metadata": {},
   "source": [
    "*********** DELETE DOCUMENTS ( DELETE ) ***********"
   ]
  },
  {
   "cell_type": "markdown",
   "id": "0e186de4",
   "metadata": {},
   "source": [
    "remove all documents from the inventory collection where the status field equals \"A\""
   ]
  },
  {
   "cell_type": "code",
   "execution_count": 49,
   "id": "7b2a58e7",
   "metadata": {},
   "outputs": [
    {
     "name": "stdout",
     "output_type": "stream",
     "text": [
      "Deleted count: 1\n"
     ]
    }
   ],
   "source": [
    "result = db.inventory.delete_many({ \"status\": \"A\" })\n",
    "print(\"Deleted count:\", result.deleted_count)"
   ]
  },
  {
   "cell_type": "markdown",
   "id": "bfb68875",
   "metadata": {},
   "source": [
    "Deletes the first document where status is \"D\""
   ]
  },
  {
   "cell_type": "code",
   "execution_count": 50,
   "id": "fb5fa1a2",
   "metadata": {},
   "outputs": [
    {
     "name": "stdout",
     "output_type": "stream",
     "text": [
      "Deleted count: 1\n"
     ]
    }
   ],
   "source": [
    "result = db.inventory.delete_one({ \"status\": \"D\" })\n",
    "print(\"Deleted count:\", result.deleted_count)"
   ]
  },
  {
   "cell_type": "markdown",
   "id": "6ff93604",
   "metadata": {},
   "source": [
    "WEEKLY CHALLENGE\n",
    "\n",
    "Write a function that removes duplicates from an array. The function should take an array as input and return a new array with all duplicate elements removed. "
   ]
  },
  {
   "cell_type": "code",
   "execution_count": 51,
   "id": "5bb6846a",
   "metadata": {},
   "outputs": [
    {
     "name": "stdout",
     "output_type": "stream",
     "text": [
      "[1, 2, 3, 4, 5]\n"
     ]
    }
   ],
   "source": [
    "def remove_duplicates(arr):\n",
    "    seen = set()\n",
    "    result = []\n",
    "    for item in arr:\n",
    "        if item not in seen:\n",
    "            result.append(item)\n",
    "            seen.add(item)\n",
    "    return result\n",
    "\n",
    "# Example usage:\n",
    "arr = [1, 2, 2, 3, 4, 3, 5, 1]\n",
    "print(remove_duplicates(arr))  "
   ]
  },
  {
   "cell_type": "markdown",
   "id": "7f8530f4",
   "metadata": {},
   "source": [
    "References\n",
    "https://docs.mongodb.com/manual/crud/"
   ]
  }
 ],
 "metadata": {
  "kernelspec": {
   "display_name": "Python 3",
   "language": "python",
   "name": "python3"
  },
  "language_info": {
   "codemirror_mode": {
    "name": "ipython",
    "version": 3
   },
   "file_extension": ".py",
   "mimetype": "text/x-python",
   "name": "python",
   "nbconvert_exporter": "python",
   "pygments_lexer": "ipython3",
   "version": "3.13.3"
  }
 },
 "nbformat": 4,
 "nbformat_minor": 5
}
