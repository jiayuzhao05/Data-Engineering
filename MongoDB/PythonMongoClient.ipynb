{
 "cells": [
  {
   "cell_type": "markdown",
   "metadata": {},
   "source": [
    "### DATA ENGINEERING PLATFORMS (MSCA 31012)\n",
    "### File        :   Class Exercise - Session 8 - PythonMongoClient\n",
    "### Desc     :  Connecting to MongoDB via Jupyter Notebook                  \n",
    "\n",
    "References: \n",
    "https://docs.mongodb.com/getting-started/python/client/\n",
    "https://blog.exploratory.io/an-introduction-to-mongodb-query-for-beginners-bd463319aa4c/\n",
    "https://docs.mongodb.com/manual/tutorial/getting-started/ \n",
    "\n",
    "Installation:\n",
    "`pip install pymongo`\n",
    "\n",
    "pymongo is an interface for connecting to a Mongo database server from Python. The steps are as follows:\n",
    "\n",
    "1. Install and start MongoDB on your local machine.\n",
    "2. Make sure to run mongod with the data folder option\n",
    "    \"C:\\Program Files\\MongoDB\\Server\\4.2\\bin\\mongod.exe\" --dbpath \"C:\\data\"\n",
    "    \n",
    "    Mac Users : /usr/local/mongoDB/bin/mongod --dbpath \"C:\\data\"\n",
    "\n",
    "3. Download file \n",
    "https://raw.githubusercontent.com/mongodb/docs-assets/primer-dataset/primer-dataset.json\n",
    "\n",
    "4. Import downloaded sample data into Mongo DB (25359 documents)\n",
    "\"C:\\Program Files\\MongoDB\\Server\\4.2\\bin\\mongoimport\" --db test --collection restaurants --drop --file \"C:\\Users\\SBharadwaj\\Desktop\\Shree\\DEPA\\03-Lectures\\8\\Exercises\\MongoDB\\primer-dataset.json\"\n",
    "\n",
    "MAC : mongoimport --db test --collection restaurants --drop --file \"C:\\Users\\SBharadwaj\\Desktop\\Shree\\DEPA\\03-Lectures\\8\\Exercises\\MongoDB\\primer-dataset.json\""
   ]
  },
  {
   "cell_type": "code",
   "execution_count": 1,
   "metadata": {},
   "outputs": [
    {
     "name": "stdout",
     "output_type": "stream",
     "text": [
      "Collecting pymongo\n",
      "  Downloading pymongo-4.13.0-cp313-cp313-win_amd64.whl.metadata (22 kB)\n",
      "Collecting dnspython<3.0.0,>=1.16.0 (from pymongo)\n",
      "  Downloading dnspython-2.7.0-py3-none-any.whl.metadata (5.8 kB)\n",
      "Downloading pymongo-4.13.0-cp313-cp313-win_amd64.whl (949 kB)\n",
      "   ---------------------------------------- 0.0/949.4 kB ? eta -:--:--\n",
      "   ----------- ---------------------------- 262.1/949.4 kB ? eta -:--:--\n",
      "   ---------------------------------------- 949.4/949.4 kB 4.6 MB/s eta 0:00:00\n",
      "Downloading dnspython-2.7.0-py3-none-any.whl (313 kB)\n",
      "Installing collected packages: dnspython, pymongo\n",
      "\n",
      "   ---------------------------------------- 0/2 [dnspython]\n",
      "   ---------------------------------------- 0/2 [dnspython]\n",
      "   ---------------------------------------- 0/2 [dnspython]\n",
      "   ---------------------------------------- 0/2 [dnspython]\n",
      "   ---------------------------------------- 0/2 [dnspython]\n",
      "   ---------------------------------------- 0/2 [dnspython]\n",
      "   ---------------------------------------- 0/2 [dnspython]\n",
      "   ---------------------------------------- 0/2 [dnspython]\n",
      "   ---------------------------------------- 0/2 [dnspython]\n",
      "   ---------------------------------------- 0/2 [dnspython]\n",
      "   ---------------------------------------- 0/2 [dnspython]\n",
      "   ---------------------------------------- 0/2 [dnspython]\n",
      "   ---------------------------------------- 0/2 [dnspython]\n",
      "   ---------------------------------------- 0/2 [dnspython]\n",
      "   ---------------------------------------- 0/2 [dnspython]\n",
      "   ---------------------------------------- 0/2 [dnspython]\n",
      "   -------------------- ------------------- 1/2 [pymongo]\n",
      "   -------------------- ------------------- 1/2 [pymongo]\n",
      "   -------------------- ------------------- 1/2 [pymongo]\n",
      "   -------------------- ------------------- 1/2 [pymongo]\n",
      "   -------------------- ------------------- 1/2 [pymongo]\n",
      "   -------------------- ------------------- 1/2 [pymongo]\n",
      "   -------------------- ------------------- 1/2 [pymongo]\n",
      "   -------------------- ------------------- 1/2 [pymongo]\n",
      "   -------------------- ------------------- 1/2 [pymongo]\n",
      "   -------------------- ------------------- 1/2 [pymongo]\n",
      "   -------------------- ------------------- 1/2 [pymongo]\n",
      "   -------------------- ------------------- 1/2 [pymongo]\n",
      "   -------------------- ------------------- 1/2 [pymongo]\n",
      "   -------------------- ------------------- 1/2 [pymongo]\n",
      "   -------------------- ------------------- 1/2 [pymongo]\n",
      "   -------------------- ------------------- 1/2 [pymongo]\n",
      "   -------------------- ------------------- 1/2 [pymongo]\n",
      "   ---------------------------------------- 2/2 [pymongo]\n",
      "\n",
      "Successfully installed dnspython-2.7.0 pymongo-4.13.0\n"
     ]
    }
   ],
   "source": [
    "#Installation:\n",
    "!pip install pymongo"
   ]
  },
  {
   "cell_type": "code",
   "execution_count": 2,
   "metadata": {},
   "outputs": [],
   "source": [
    "import pymongo\n",
    "import json\n",
    "from pymongo import MongoClient"
   ]
  },
  {
   "cell_type": "markdown",
   "metadata": {},
   "source": [
    "### Connect to MongoDB"
   ]
  },
  {
   "cell_type": "code",
   "execution_count": 3,
   "metadata": {},
   "outputs": [],
   "source": [
    "#connect to local database server\n",
    "client = MongoClient()\n",
    "\n",
    "#switch to test DB\n",
    "db = client.test"
   ]
  },
  {
   "cell_type": "code",
   "execution_count": 4,
   "metadata": {},
   "outputs": [],
   "source": [
    "def printhead(cursor, n):\n",
    "    for idx,document in enumerate(cursor):\n",
    "        if idx <= n: \n",
    "            print(document)\n",
    "        else:\n",
    "            break"
   ]
  },
  {
   "cell_type": "markdown",
   "metadata": {},
   "source": [
    "### Query MongoDB"
   ]
  },
  {
   "cell_type": "code",
   "execution_count": 5,
   "metadata": {},
   "outputs": [],
   "source": [
    "restaurants = db.restaurants.find()\n",
    "printhead(restaurants, 2)"
   ]
  },
  {
   "cell_type": "markdown",
   "metadata": {},
   "source": [
    "#### Cut paste the JSON results into a JSON formatter ( URL below ) and click on format to get a clean view of the data\n",
    "http://jsonviewer.stack.hu/  ( Pretty JSON ) "
   ]
  },
  {
   "cell_type": "code",
   "execution_count": 6,
   "metadata": {},
   "outputs": [],
   "source": [
    "# List all documents in the restaurant collection where borough is Manhattan\n",
    "restaurantData = db.restaurants.find({\"borough\": \"Manhattan\"})\n",
    "printhead(restaurantData, 2)"
   ]
  },
  {
   "cell_type": "code",
   "execution_count": 7,
   "metadata": {},
   "outputs": [],
   "source": [
    "#### Sort the query results based on borougn and zipcode\n",
    "restaurantData = db.restaurants.find().sort([\n",
    "    (\"borough\", pymongo.ASCENDING),\n",
    "    (\"address.zipcode\", pymongo.ASCENDING)\n",
    "])\n",
    "printhead(restaurantData, 2)"
   ]
  },
  {
   "cell_type": "markdown",
   "metadata": {},
   "source": [
    "#### Insert data"
   ]
  },
  {
   "cell_type": "code",
   "execution_count": 8,
   "metadata": {},
   "outputs": [],
   "source": [
    "from datetime import datetime\n",
    "result = db.restaurants.insert_one(\n",
    "    {\n",
    "        \"address\": {\n",
    "            \"street\": \"2 Avenue\",\n",
    "            \"zipcode\": \"10075\",\n",
    "            \"building\": \"1480\",\n",
    "            \"coord\": [-73.9557413, 40.7720266]\n",
    "        },\n",
    "        \"borough\": \"Manhattan\",\n",
    "        \"cuisine\": \"Italian\",\n",
    "        \"grades\": [\n",
    "            {\n",
    "                \"date\": datetime.strptime(\"2014-10-01\", \"%Y-%m-%d\"),\n",
    "                \"grade\": \"A\",\n",
    "                \"score\": 11\n",
    "            },\n",
    "            {\n",
    "                \"date\": datetime.strptime(\"2014-01-16\", \"%Y-%m-%d\"),\n",
    "                \"grade\": \"B\",\n",
    "                \"score\": 17\n",
    "            }\n",
    "        ],\n",
    "        \"name\": \"Vella\",\n",
    "        \"restaurant_id\": \"41704620\"\n",
    "    }\n",
    ")"
   ]
  },
  {
   "cell_type": "code",
   "execution_count": 9,
   "metadata": {},
   "outputs": [
    {
     "data": {
      "text/plain": [
       "InsertOneResult(ObjectId('6838d8e7f6d13209d86d79db'), acknowledged=True)"
      ]
     },
     "execution_count": 9,
     "metadata": {},
     "output_type": "execute_result"
    }
   ],
   "source": [
    "result"
   ]
  },
  {
   "cell_type": "code",
   "execution_count": 10,
   "metadata": {},
   "outputs": [
    {
     "data": {
      "text/plain": [
       "ObjectId('6838d8e7f6d13209d86d79db')"
      ]
     },
     "execution_count": 10,
     "metadata": {},
     "output_type": "execute_result"
    }
   ],
   "source": [
    "#check document that was inserted\n",
    "result.inserted_id"
   ]
  },
  {
   "cell_type": "markdown",
   "metadata": {},
   "source": [
    "#### Insert more than one documents"
   ]
  },
  {
   "cell_type": "code",
   "execution_count": 11,
   "metadata": {},
   "outputs": [],
   "source": [
    "result = db.test.insert_many([{\n",
    "        \"address\": {\n",
    "            \"street\": \"2 Avenue\",\n",
    "            \"zipcode\": \"10075\",\n",
    "            \"building\": \"1480\",\n",
    "            \"coord\": [-72.937413, 40.75466]\n",
    "        },\n",
    "        \"borough\": \"Manhattan\",\n",
    "        \"cuisine\": \"Indian\",\n",
    "        \"grades\": [\n",
    "            {\n",
    "                \"date\": datetime.strptime(\"2014-10-01\", \"%Y-%m-%d\"),\n",
    "                \"grade\": \"A\",\n",
    "                \"score\": 11\n",
    "            },\n",
    "            {\n",
    "                \"date\": datetime.strptime(\"2015-05-16\", \"%Y-%m-%d\"),\n",
    "                \"grade\": \"B\",\n",
    "                \"score\": 17\n",
    "            }\n",
    "        ],\n",
    "        \"name\": \"India Garden\",\n",
    "        \"restaurant_id\": \"4170462\" + str(i)\n",
    "    } for i in range(4)])"
   ]
  },
  {
   "cell_type": "code",
   "execution_count": 13,
   "metadata": {},
   "outputs": [
    {
     "data": {
      "text/plain": [
       "[ObjectId('6838d8f5f6d13209d86d79dc'),\n",
       " ObjectId('6838d8f5f6d13209d86d79dd'),\n",
       " ObjectId('6838d8f5f6d13209d86d79de'),\n",
       " ObjectId('6838d8f5f6d13209d86d79df')]"
      ]
     },
     "execution_count": 13,
     "metadata": {},
     "output_type": "execute_result"
    }
   ],
   "source": [
    "result.inserted_ids"
   ]
  },
  {
   "cell_type": "markdown",
   "metadata": {},
   "source": [
    "#### Update documents { update_one(),update_many() }\n",
    "In MongoDB, a write operation is atomic on the level of a single document, even if the operation modifies multiple embedded documents within a single document. When a single write operation modifies multiple documents, the modification of each document is atomic, but the operation as a whole is not atomic and other operations may interleave.However, you can isolate a single write operation that affects multiple documents using the $isolated operator."
   ]
  },
  {
   "cell_type": "code",
   "execution_count": 15,
   "metadata": {},
   "outputs": [],
   "source": [
    "result = db.restaurants.update_one(\n",
    "    {\"cuisine\": \"Indian\"},\n",
    "    {\n",
    "        \"$set\": {\n",
    "            \"name\": \"Mexican Garden\"\n",
    "        },\n",
    "        \"$currentDate\": {\"lastModified\": True}\n",
    "    }\n",
    ")"
   ]
  },
  {
   "cell_type": "code",
   "execution_count": 16,
   "metadata": {},
   "outputs": [
    {
     "name": "stdout",
     "output_type": "stream",
     "text": [
      "0\n",
      "0\n"
     ]
    }
   ],
   "source": [
    "print (result.matched_count)\n",
    "print (result.modified_count)\n",
    "cursor = db.restaurants.find({\"name\": \"Mexican Garden\"})\n",
    "printhead(cursor, 10)"
   ]
  },
  {
   "cell_type": "markdown",
   "metadata": {},
   "source": [
    "####  Replace documents {replace_one()}\n",
    "To replace the entire document rather than selected fields"
   ]
  },
  {
   "cell_type": "code",
   "execution_count": 17,
   "metadata": {},
   "outputs": [],
   "source": [
    "result = db.restaurants.replace_one(\n",
    "    {\"restaurant_id\": \"41704620\"},\n",
    "    {\n",
    "        \"name\": \"Mexican Garden\",\n",
    "        \"cuisine\": \"Mexican\",\n",
    "        \"address\": {\n",
    "            \"coord\": [-73.9557413, 40.7720266],\n",
    "            \"building\": \"1480\",\n",
    "            \"street\": \"2 Avenue\",\n",
    "            \"zipcode\": \"10075\"\n",
    "        }\n",
    "    }\n",
    ")"
   ]
  },
  {
   "cell_type": "code",
   "execution_count": 18,
   "metadata": {},
   "outputs": [
    {
     "name": "stdout",
     "output_type": "stream",
     "text": [
      "1\n",
      "1\n",
      "{'_id': ObjectId('6838d8e7f6d13209d86d79db'), 'name': 'Mexican Garden', 'cuisine': 'Mexican', 'address': {'coord': [-73.9557413, 40.7720266], 'building': '1480', 'street': '2 Avenue', 'zipcode': '10075'}}\n"
     ]
    }
   ],
   "source": [
    "print (result.matched_count)\n",
    "print (result.modified_count)\n",
    "cursor = db.restaurants.find({\"name\": \"Mexican Garden\"})\n",
    "printhead(cursor, 10)"
   ]
  },
  {
   "cell_type": "markdown",
   "metadata": {},
   "source": [
    "####  Data Aggregation, Grouping & Sorting \n",
    "Documents enter a multi-stage pipeline that transforms the documents into aggregated results"
   ]
  },
  {
   "cell_type": "code",
   "execution_count": 19,
   "metadata": {},
   "outputs": [
    {
     "name": "stdout",
     "output_type": "stream",
     "text": [
      "{'_id': None, 'count': 1}\n"
     ]
    }
   ],
   "source": [
    "# Groups documents by city and get counts of each sorted in descending order\n",
    "cursor = db.restaurants.aggregate(\n",
    "    [ \n",
    "        { '$group': { '_id': \"$borough\", \"count\": { '$sum': 1 } } },\n",
    "        { '$sort' : {'count' : -1} }\n",
    "    ]\n",
    ")\n",
    "printhead(cursor, 10)"
   ]
  },
  {
   "cell_type": "code",
   "execution_count": 20,
   "metadata": {},
   "outputs": [],
   "source": [
    "# find a list of restaurants located in the Bronx, grouped by restaurant category\n",
    "cursor = db.restaurants.aggregate( \n",
    "      [ \n",
    "          { '$match': { \"borough\": \"Bronx\" } },\n",
    "#           { '$unwind': '$categories'},\n",
    "          { '$group': { '_id': \"$categories\", 'Bronx restaurants': { '$sum': 1 } } }\n",
    "      ]  )\n",
    "printhead(cursor, 10)"
   ]
  },
  {
   "cell_type": "code",
   "execution_count": 21,
   "metadata": {},
   "outputs": [],
   "source": [
    "# The following pipeline uses $match to query the restaurants collection for documents with borough \n",
    "# equal to \"Queens\" and cuisine equal to Brazilian. The _id field contains the distinct zipcode value.\n",
    "cursor = db.restaurants.aggregate(\n",
    "   [\n",
    "     { '$match': { \"borough\": \"Queens\", \"cuisine\": \"Brazilian\" } },\n",
    "     { '$group': { \"_id\": \"$address.zipcode\" , \"count\": { '$sum': 1 } } }\n",
    "   ] )\n",
    "printhead(cursor, 10)"
   ]
  },
  {
   "cell_type": "markdown",
   "metadata": {},
   "source": [
    "### Delete documents\n",
    "\n",
    "delete_one(), delete_many()"
   ]
  },
  {
   "cell_type": "code",
   "execution_count": 22,
   "metadata": {},
   "outputs": [
    {
     "data": {
      "text/plain": [
       "DeleteResult({'n': 0, 'ok': 1.0}, acknowledged=True)"
      ]
     },
     "execution_count": 22,
     "metadata": {},
     "output_type": "execute_result"
    }
   ],
   "source": [
    "#delete one document where name matches condition\n",
    "db.restaurants.delete_one({\"name\": \"India Garden\"})"
   ]
  },
  {
   "cell_type": "code",
   "execution_count": 23,
   "metadata": {},
   "outputs": [
    {
     "data": {
      "text/plain": [
       "DeleteResult({'n': 0, 'ok': 1.0}, acknowledged=True)"
      ]
     },
     "execution_count": 23,
     "metadata": {},
     "output_type": "execute_result"
    }
   ],
   "source": [
    "#delete all documents where name matches condition\n",
    "db.restaurants.delete_many({\"name\": \"India Garden\"})"
   ]
  },
  {
   "cell_type": "code",
   "execution_count": 24,
   "metadata": {},
   "outputs": [
    {
     "data": {
      "text/plain": [
       "DeleteResult({'n': 1, 'ok': 1.0}, acknowledged=True)"
      ]
     },
     "execution_count": 24,
     "metadata": {},
     "output_type": "execute_result"
    }
   ],
   "source": [
    "#delete all documents - empties the DB\n",
    "db.restaurants.delete_many({})"
   ]
  },
  {
   "cell_type": "code",
   "execution_count": 25,
   "metadata": {},
   "outputs": [],
   "source": [
    "#find the first 10 documents in the db - none should be found since the data was deleted \n",
    "cursor = db.restaurants.find()\n",
    "printhead(cursor, 10)"
   ]
  },
  {
   "cell_type": "markdown",
   "metadata": {},
   "source": [
    "### Explore Further\n",
    "\n",
    "https://docs.mongodb.com/manual/core/bulk-write-operations/\n",
    "\n",
    "https://docs.mongodb.com/manual/reference/sql-comparison/"
   ]
  }
 ],
 "metadata": {
  "anaconda-cloud": {},
  "kernelspec": {
   "display_name": "Python 3",
   "language": "python",
   "name": "python3"
  },
  "language_info": {
   "codemirror_mode": {
    "name": "ipython",
    "version": 3
   },
   "file_extension": ".py",
   "mimetype": "text/x-python",
   "name": "python",
   "nbconvert_exporter": "python",
   "pygments_lexer": "ipython3",
   "version": "3.13.3"
  }
 },
 "nbformat": 4,
 "nbformat_minor": 1
}
